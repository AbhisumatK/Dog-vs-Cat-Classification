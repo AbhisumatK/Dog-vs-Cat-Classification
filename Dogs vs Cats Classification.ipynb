{
 "cells": [
  {
   "cell_type": "code",
   "execution_count": 2,
   "id": "a506fa67-f53c-49a0-ba41-5f791eb48c5f",
   "metadata": {},
   "outputs": [],
   "source": [
    "import pandas as pd\n",
    "import numpy as np\n",
    "import matplotlib.pyplot as plt\n",
    "import warnings\n",
    "import os\n",
    "import tqdm\n",
    "import random\n",
    "from tensorflow.keras.preprocessing.image import load_img\n",
    "import seaborn as sns\n",
    "warnings.filterwarnings('ignore')"
   ]
  },
  {
   "cell_type": "code",
   "execution_count": 3,
   "id": "e25befc5-f22d-4316-ba8a-87e923a456d2",
   "metadata": {},
   "outputs": [
    {
     "name": "stdout",
     "output_type": "stream",
     "text": [
      "PetImages\\Cat\\0.jpg 0\n"
     ]
    }
   ],
   "source": [
    "input_path = []\n",
    "label = []\n",
    "\n",
    "for class_name in os.listdir('PetImages'):\n",
    "    for path in os.listdir('PetImages/' + class_name):\n",
    "        if class_name == 'Cat':\n",
    "            label.append(0)\n",
    "        else:\n",
    "            label.append(1)\n",
    "        input_path.append(os.path.join(\"PetImages\", class_name, path))\n",
    "\n",
    "print(input_path[0], label[0])"
   ]
  },
  {
   "cell_type": "code",
   "execution_count": 4,
   "id": "9ec3b386-3df7-48a5-975e-92bfa75df5b6",
   "metadata": {},
   "outputs": [
    {
     "name": "stdout",
     "output_type": "stream",
     "text": [
      "25002 25002\n"
     ]
    }
   ],
   "source": [
    "print(len(label), len(input_path))\n"
   ]
  },
  {
   "cell_type": "code",
   "execution_count": 5,
   "id": "912e30eb-9c5c-4b10-a312-2054a9b6a1ab",
   "metadata": {},
   "outputs": [],
   "source": [
    "data = pd.DataFrame(\n",
    "    {\"Images\": input_path,\n",
    "    \"Label\" : label}\n",
    "     )"
   ]
  },
  {
   "cell_type": "code",
   "execution_count": 6,
   "id": "2a4d2a65-98ae-46bb-90b3-d0e544fa1490",
   "metadata": {},
   "outputs": [
    {
     "data": {
      "text/html": [
       "<div>\n",
       "<style scoped>\n",
       "    .dataframe tbody tr th:only-of-type {\n",
       "        vertical-align: middle;\n",
       "    }\n",
       "\n",
       "    .dataframe tbody tr th {\n",
       "        vertical-align: top;\n",
       "    }\n",
       "\n",
       "    .dataframe thead th {\n",
       "        text-align: right;\n",
       "    }\n",
       "</style>\n",
       "<table border=\"1\" class=\"dataframe\">\n",
       "  <thead>\n",
       "    <tr style=\"text-align: right;\">\n",
       "      <th></th>\n",
       "      <th>Images</th>\n",
       "      <th>Label</th>\n",
       "    </tr>\n",
       "  </thead>\n",
       "  <tbody>\n",
       "    <tr>\n",
       "      <th>0</th>\n",
       "      <td>PetImages\\Cat\\0.jpg</td>\n",
       "      <td>0</td>\n",
       "    </tr>\n",
       "    <tr>\n",
       "      <th>1</th>\n",
       "      <td>PetImages\\Cat\\1.jpg</td>\n",
       "      <td>0</td>\n",
       "    </tr>\n",
       "    <tr>\n",
       "      <th>2</th>\n",
       "      <td>PetImages\\Cat\\10.jpg</td>\n",
       "      <td>0</td>\n",
       "    </tr>\n",
       "    <tr>\n",
       "      <th>3</th>\n",
       "      <td>PetImages\\Cat\\100.jpg</td>\n",
       "      <td>0</td>\n",
       "    </tr>\n",
       "    <tr>\n",
       "      <th>4</th>\n",
       "      <td>PetImages\\Cat\\1000.jpg</td>\n",
       "      <td>0</td>\n",
       "    </tr>\n",
       "  </tbody>\n",
       "</table>\n",
       "</div>"
      ],
      "text/plain": [
       "                   Images  Label\n",
       "0     PetImages\\Cat\\0.jpg      0\n",
       "1     PetImages\\Cat\\1.jpg      0\n",
       "2    PetImages\\Cat\\10.jpg      0\n",
       "3   PetImages\\Cat\\100.jpg      0\n",
       "4  PetImages\\Cat\\1000.jpg      0"
      ]
     },
     "execution_count": 6,
     "metadata": {},
     "output_type": "execute_result"
    }
   ],
   "source": [
    "data.head()"
   ]
  },
  {
   "cell_type": "code",
   "execution_count": 7,
   "id": "7051e920-1dba-497e-9d38-19a26b6dfc98",
   "metadata": {},
   "outputs": [
    {
     "name": "stdout",
     "output_type": "stream",
     "text": [
      "PetImages\\Cat\\Thumbs.db\n",
      "PetImages\\Dog\\Thumbs.db\n"
     ]
    }
   ],
   "source": [
    "for i in data[\"Images\"]:\n",
    "    if '.jpg' not in i:\n",
    "        print(i)"
   ]
  },
  {
   "cell_type": "code",
   "execution_count": 8,
   "id": "b9f6e394-1e68-40da-901b-6f42dea68707",
   "metadata": {},
   "outputs": [
    {
     "data": {
      "text/plain": [
       "['PetImages\\\\Cat\\\\666.jpg',\n",
       " 'PetImages\\\\Cat\\\\Thumbs.db',\n",
       " 'PetImages\\\\Dog\\\\11702.jpg',\n",
       " 'PetImages\\\\Dog\\\\Thumbs.db']"
      ]
     },
     "execution_count": 8,
     "metadata": {},
     "output_type": "execute_result"
    }
   ],
   "source": [
    "import PIL\n",
    "k = []\n",
    "\n",
    "for image in data['Images']:\n",
    "    try:\n",
    "        img = PIL.Image.open(image)\n",
    "    except:\n",
    "        k.append(image)\n",
    "\n",
    "k"
   ]
  },
  {
   "cell_type": "code",
   "execution_count": 9,
   "id": "81787ffa-b6b1-4e42-95a7-d0eec386d9ad",
   "metadata": {},
   "outputs": [
    {
     "data": {
      "text/plain": [
       "24998"
      ]
     },
     "execution_count": 9,
     "metadata": {},
     "output_type": "execute_result"
    }
   ],
   "source": [
    "data = data[data['Images'] != 'PetImages\\Dog\\Thumbs.db']\n",
    "data = data[data['Images'] != 'PetImages\\Cat\\Thumbs.db']\n",
    "data = data[data['Images'] != 'PetImages\\\\Cat\\\\666.jpg']\n",
    "data = data[data['Images'] != 'PetImages\\\\Dog\\\\11702.jpg']\n",
    "\n",
    "len(data)"
   ]
  },
  {
   "cell_type": "code",
   "execution_count": 10,
   "id": "0a9981a5-ee1e-4e58-8d60-345cc252c198",
   "metadata": {},
   "outputs": [
    {
     "data": {
      "text/html": [
       "<div>\n",
       "<style scoped>\n",
       "    .dataframe tbody tr th:only-of-type {\n",
       "        vertical-align: middle;\n",
       "    }\n",
       "\n",
       "    .dataframe tbody tr th {\n",
       "        vertical-align: top;\n",
       "    }\n",
       "\n",
       "    .dataframe thead th {\n",
       "        text-align: right;\n",
       "    }\n",
       "</style>\n",
       "<table border=\"1\" class=\"dataframe\">\n",
       "  <thead>\n",
       "    <tr style=\"text-align: right;\">\n",
       "      <th></th>\n",
       "      <th>Images</th>\n",
       "      <th>Label</th>\n",
       "    </tr>\n",
       "  </thead>\n",
       "  <tbody>\n",
       "    <tr>\n",
       "      <th>0</th>\n",
       "      <td>PetImages\\Dog\\3531.jpg</td>\n",
       "      <td>1</td>\n",
       "    </tr>\n",
       "    <tr>\n",
       "      <th>1</th>\n",
       "      <td>PetImages\\Dog\\5171.jpg</td>\n",
       "      <td>1</td>\n",
       "    </tr>\n",
       "    <tr>\n",
       "      <th>2</th>\n",
       "      <td>PetImages\\Dog\\8090.jpg</td>\n",
       "      <td>1</td>\n",
       "    </tr>\n",
       "    <tr>\n",
       "      <th>3</th>\n",
       "      <td>PetImages\\Dog\\4798.jpg</td>\n",
       "      <td>1</td>\n",
       "    </tr>\n",
       "    <tr>\n",
       "      <th>4</th>\n",
       "      <td>PetImages\\Dog\\9780.jpg</td>\n",
       "      <td>1</td>\n",
       "    </tr>\n",
       "  </tbody>\n",
       "</table>\n",
       "</div>"
      ],
      "text/plain": [
       "                   Images  Label\n",
       "0  PetImages\\Dog\\3531.jpg      1\n",
       "1  PetImages\\Dog\\5171.jpg      1\n",
       "2  PetImages\\Dog\\8090.jpg      1\n",
       "3  PetImages\\Dog\\4798.jpg      1\n",
       "4  PetImages\\Dog\\9780.jpg      1"
      ]
     },
     "execution_count": 10,
     "metadata": {},
     "output_type": "execute_result"
    }
   ],
   "source": [
    "data = data.sample(frac = 1).reset_index(drop = True)\n",
    "\n",
    "data.head()"
   ]
  },
  {
   "cell_type": "code",
   "execution_count": 11,
   "id": "fc5bd8d9-d969-4945-8afb-58f435585210",
   "metadata": {},
   "outputs": [],
   "source": [
    "data[\"Label\"] = data[\"Label\"].astype('str')"
   ]
  },
  {
   "cell_type": "code",
   "execution_count": 12,
   "id": "be22fee7-766b-45fe-ab97-d2f6692f1fb1",
   "metadata": {},
   "outputs": [
    {
     "data": {
      "text/plain": [
       "<Figure size 2500x2500 with 0 Axes>"
      ]
     },
     "metadata": {},
     "output_type": "display_data"
    }
   ],
   "source": [
    "plt.figure(figsize=(25,25))\n",
    "woof = data[data['Label']==1]['Images']\n",
    "start = random.randint(0, len(woof))\n",
    "files = woof[start:start + 25]\n",
    "\n",
    "for index, file in enumerate(files):\n",
    "    plt.subplot(5,5, index + 1)\n",
    "    img = np.array(load_img(file))\n",
    "    plt.imshow(img)\n",
    "    plt.title(\"Dogs: \")\n",
    "    plt.axis('off')"
   ]
  },
  {
   "cell_type": "code",
   "execution_count": 13,
   "id": "51e274c2-e41d-468e-9cfc-e4b2b61dd8db",
   "metadata": {},
   "outputs": [
    {
     "data": {
      "text/plain": [
       "<Figure size 2500x2500 with 0 Axes>"
      ]
     },
     "metadata": {},
     "output_type": "display_data"
    }
   ],
   "source": [
    "plt.figure(figsize=(25,25))\n",
    "meow = data[data['Label']==0]['Images']\n",
    "start = random.randint(0, len(meow))\n",
    "files = meow[start:start + 25]\n",
    "\n",
    "for index, file in enumerate(files):\n",
    "    plt.subplot(5,5, index + 1)\n",
    "    img = np.array(load_img(file))\n",
    "    plt.imshow(img)\n",
    "    plt.title(\"Cats: \")\n",
    "    plt.axis('off')"
   ]
  },
  {
   "cell_type": "code",
   "execution_count": 14,
   "id": "52b5f2b2-dfbc-4808-8017-f4b2b3e31d6b",
   "metadata": {},
   "outputs": [
    {
     "data": {
      "text/plain": [
       "Label\n",
       "1    12499\n",
       "0    12499\n",
       "Name: count, dtype: int64"
      ]
     },
     "execution_count": 14,
     "metadata": {},
     "output_type": "execute_result"
    }
   ],
   "source": [
    "data['Label'].value_counts()"
   ]
  },
  {
   "cell_type": "code",
   "execution_count": 15,
   "id": "9617b3cc-9c47-49c8-af30-48a843282173",
   "metadata": {},
   "outputs": [
    {
     "data": {
      "image/png": "[encoded data removed]",
      "text/plain": [
       "<Figure size 800x600 with 1 Axes>"
      ]
     },
     "metadata": {},
     "output_type": "display_data"
    }
   ],
   "source": [
    "fig, ax = plt.subplots(figsize=(8, 6)) \n",
    "sns.countplot(data=data, x=\"Label\", palette=\"viridis\", ax=ax) \n",
    "\n",
    "plt.show()"
   ]
  },
  {
   "cell_type": "code",
   "execution_count": 16,
   "id": "8f23d0e2-abde-45a2-bf67-a5772e8cfa5b",
   "metadata": {},
   "outputs": [],
   "source": [
    "from sklearn.model_selection import train_test_split\n",
    "\n",
    "train, test = train_test_split(data, test_size=0.2, random_state=42)"
   ]
  },
  {
   "cell_type": "code",
   "execution_count": 17,
   "id": "41b23c8d-4e7a-40ec-ae50-19f5ebd57850",
   "metadata": {},
   "outputs": [
    {
     "data": {
      "text/html": [
       "<div>\n",
       "<style scoped>\n",
       "    .dataframe tbody tr th:only-of-type {\n",
       "        vertical-align: middle;\n",
       "    }\n",
       "\n",
       "    .dataframe tbody tr th {\n",
       "        vertical-align: top;\n",
       "    }\n",
       "\n",
       "    .dataframe thead th {\n",
       "        text-align: right;\n",
       "    }\n",
       "</style>\n",
       "<table border=\"1\" class=\"dataframe\">\n",
       "  <thead>\n",
       "    <tr style=\"text-align: right;\">\n",
       "      <th></th>\n",
       "      <th>Images</th>\n",
       "      <th>Label</th>\n",
       "    </tr>\n",
       "  </thead>\n",
       "  <tbody>\n",
       "    <tr>\n",
       "      <th>23286</th>\n",
       "      <td>PetImages\\Cat\\11007.jpg</td>\n",
       "      <td>0</td>\n",
       "    </tr>\n",
       "    <tr>\n",
       "      <th>17781</th>\n",
       "      <td>PetImages\\Cat\\242.jpg</td>\n",
       "      <td>0</td>\n",
       "    </tr>\n",
       "    <tr>\n",
       "      <th>1020</th>\n",
       "      <td>PetImages\\Cat\\5455.jpg</td>\n",
       "      <td>0</td>\n",
       "    </tr>\n",
       "    <tr>\n",
       "      <th>12644</th>\n",
       "      <td>PetImages\\Cat\\10722.jpg</td>\n",
       "      <td>0</td>\n",
       "    </tr>\n",
       "    <tr>\n",
       "      <th>1533</th>\n",
       "      <td>PetImages\\Cat\\7788.jpg</td>\n",
       "      <td>0</td>\n",
       "    </tr>\n",
       "  </tbody>\n",
       "</table>\n",
       "</div>"
      ],
      "text/plain": [
       "                        Images Label\n",
       "23286  PetImages\\Cat\\11007.jpg     0\n",
       "17781    PetImages\\Cat\\242.jpg     0\n",
       "1020    PetImages\\Cat\\5455.jpg     0\n",
       "12644  PetImages\\Cat\\10722.jpg     0\n",
       "1533    PetImages\\Cat\\7788.jpg     0"
      ]
     },
     "execution_count": 17,
     "metadata": {},
     "output_type": "execute_result"
    }
   ],
   "source": [
    "train.head()"
   ]
  },
  {
   "cell_type": "code",
   "execution_count": 18,
   "id": "e0fe3f29-5e94-4ba3-81c2-9dfaca1a9de9",
   "metadata": {},
   "outputs": [
    {
     "data": {
      "text/html": [
       "<div>\n",
       "<style scoped>\n",
       "    .dataframe tbody tr th:only-of-type {\n",
       "        vertical-align: middle;\n",
       "    }\n",
       "\n",
       "    .dataframe tbody tr th {\n",
       "        vertical-align: top;\n",
       "    }\n",
       "\n",
       "    .dataframe thead th {\n",
       "        text-align: right;\n",
       "    }\n",
       "</style>\n",
       "<table border=\"1\" class=\"dataframe\">\n",
       "  <thead>\n",
       "    <tr style=\"text-align: right;\">\n",
       "      <th></th>\n",
       "      <th>Images</th>\n",
       "      <th>Label</th>\n",
       "    </tr>\n",
       "  </thead>\n",
       "  <tbody>\n",
       "    <tr>\n",
       "      <th>6868</th>\n",
       "      <td>PetImages\\Cat\\11117.jpg</td>\n",
       "      <td>0</td>\n",
       "    </tr>\n",
       "    <tr>\n",
       "      <th>22910</th>\n",
       "      <td>PetImages\\Cat\\7159.jpg</td>\n",
       "      <td>0</td>\n",
       "    </tr>\n",
       "    <tr>\n",
       "      <th>9668</th>\n",
       "      <td>PetImages\\Cat\\4892.jpg</td>\n",
       "      <td>0</td>\n",
       "    </tr>\n",
       "    <tr>\n",
       "      <th>13638</th>\n",
       "      <td>PetImages\\Cat\\1225.jpg</td>\n",
       "      <td>0</td>\n",
       "    </tr>\n",
       "    <tr>\n",
       "      <th>23337</th>\n",
       "      <td>PetImages\\Cat\\1346.jpg</td>\n",
       "      <td>0</td>\n",
       "    </tr>\n",
       "  </tbody>\n",
       "</table>\n",
       "</div>"
      ],
      "text/plain": [
       "                        Images Label\n",
       "6868   PetImages\\Cat\\11117.jpg     0\n",
       "22910   PetImages\\Cat\\7159.jpg     0\n",
       "9668    PetImages\\Cat\\4892.jpg     0\n",
       "13638   PetImages\\Cat\\1225.jpg     0\n",
       "23337   PetImages\\Cat\\1346.jpg     0"
      ]
     },
     "execution_count": 18,
     "metadata": {},
     "output_type": "execute_result"
    }
   ],
   "source": [
    "test.head()"
   ]
  },
  {
   "cell_type": "code",
   "execution_count": 19,
   "id": "c48b24a5-f004-4528-bd94-443010c4c512",
   "metadata": {},
   "outputs": [
    {
     "data": {
      "text/plain": [
       "Images    5000\n",
       "Label     5000\n",
       "dtype: int64"
      ]
     },
     "execution_count": 19,
     "metadata": {},
     "output_type": "execute_result"
    }
   ],
   "source": [
    "test.count()"
   ]
  },
  {
   "cell_type": "code",
   "execution_count": 20,
   "id": "f31d2103-1a8e-4f64-93e0-e0c1a8d37ef2",
   "metadata": {},
   "outputs": [
    {
     "name": "stdout",
     "output_type": "stream",
     "text": [
      "Found 19998 validated image filenames belonging to 2 classes.\n",
      "Found 5000 validated image filenames belonging to 2 classes.\n"
     ]
    }
   ],
   "source": [
    "from tensorflow.keras.preprocessing.image import ImageDataGenerator\n",
    "\n",
    "train_generator = ImageDataGenerator(\n",
    "    rescale = 1./255,  # normalization\n",
    "    rotation_range = 40,  # augmentation\n",
    "    shear_range = 0.2,\n",
    "    zoom_range = 0.2,\n",
    "    horizontal_flip=True,\n",
    "    fill_mode='nearest'\n",
    ")\n",
    "\n",
    "val_generator = ImageDataGenerator(rescale = 1./255)\n",
    "\n",
    "train_iterator = train_generator.flow_from_dataframe(train, x_col='Images', y_col='Label', \n",
    "                                                     target_size=(128, 128), batch_size=256, class_mode='binary')\n",
    "\n",
    "val_iterator = val_generator.flow_from_dataframe(test, x_col='Images', y_col='Label', \n",
    "                                                     target_size=(128, 128), batch_size=256, class_mode='binary')"
   ]
  },
  {
   "cell_type": "code",
   "execution_count": 21,
   "id": "3a26c98f-fe78-4ceb-9c1a-a60f80363648",
   "metadata": {},
   "outputs": [],
   "source": [
    "from tensorflow.keras import Sequential\n",
    "from tensorflow.keras.layers import Conv2D, MaxPool2D, Flatten, Dense\n",
    "\n",
    "model = Sequential([\n",
    "    Conv2D(16, (3,3), activation='relu', input_shape = (128,128,3)), \n",
    "    MaxPool2D((2,2)),\n",
    "    Conv2D(32, (3,3), activation='relu'),\n",
    "    MaxPool2D((2,2)),\n",
    "    Conv2D(64, (3,3), activation='relu'),\n",
    "    MaxPool2D((2,2)),\n",
    "    Flatten(),\n",
    "    Dense(512, activation='relu'),\n",
    "    Dense(1, activation='sigmoid')\n",
    "])"
   ]
  },
  {
   "cell_type": "code",
   "execution_count": 22,
   "id": "7e5ea358-2520-4b55-b6bf-eb7f88337af8",
   "metadata": {},
   "outputs": [
    {
     "name": "stdout",
     "output_type": "stream",
     "text": [
      "Model: \"sequential\"\n",
      "_________________________________________________________________\n",
      "Layer (type)                 Output Shape              Param #   \n",
      "=================================================================\n",
      "conv2d (Conv2D)              (None, 126, 126, 16)      448       \n",
      "_________________________________________________________________\n",
      "max_pooling2d (MaxPooling2D) (None, 63, 63, 16)        0         \n",
      "_________________________________________________________________\n",
      "conv2d_1 (Conv2D)            (None, 61, 61, 32)        4640      \n",
      "_________________________________________________________________\n",
      "max_pooling2d_1 (MaxPooling2 (None, 30, 30, 32)        0         \n",
      "_________________________________________________________________\n",
      "conv2d_2 (Conv2D)            (None, 28, 28, 64)        18496     \n",
      "_________________________________________________________________\n",
      "max_pooling2d_2 (MaxPooling2 (None, 14, 14, 64)        0         \n",
      "_________________________________________________________________\n",
      "flatten (Flatten)            (None, 12544)             0         \n",
      "_________________________________________________________________\n",
      "dense (Dense)                (None, 512)               6423040   \n",
      "_________________________________________________________________\n",
      "dense_1 (Dense)              (None, 1)                 513       \n",
      "=================================================================\n",
      "Total params: 6,447,137\n",
      "Trainable params: 6,447,137\n",
      "Non-trainable params: 0\n",
      "_________________________________________________________________\n"
     ]
    }
   ],
   "source": [
    "model.compile(optimizer='adam', loss='binary_crossentropy', metrics=['accuracy'])\n",
    "model.summary()"
   ]
  },
  {
   "cell_type": "code",
   "execution_count": 23,
   "id": "31bb601e-242c-4587-be7e-07a42b9ba0b0",
   "metadata": {},
   "outputs": [
    {
     "name": "stdout",
     "output_type": "stream",
     "text": [
      "Num GPUs Available:  1\n"
     ]
    }
   ],
   "source": [
    "import tensorflow as tf \n",
    "from tensorflow import keras\n",
    "print(\"Num GPUs Available: \", len(tf.config.experimental.list_physical_devices('GPU')))"
   ]
  },
  {
   "cell_type": "code",
   "execution_count": 24,
   "id": "db7f2ae8-0072-4eb4-9d58-fe4985e0d5a6",
   "metadata": {},
   "outputs": [
    {
     "name": "stdout",
     "output_type": "stream",
     "text": [
      "Physical devices cannot be modified after being initialized\n"
     ]
    }
   ],
   "source": [
    "gpus = tf.config.list_physical_devices('GPU') \n",
    "\n",
    "if gpus: \n",
    "    try: \n",
    "        for gpu in gpus: \n",
    "            tf.config.experimental.set_memory_growth(gpu, True) \n",
    "        print(\"GPU is set for TensorFlow\") \n",
    "    except RuntimeError as e: \n",
    "        print(e)"
   ]
  },
  {
   "cell_type": "code",
   "execution_count": 25,
   "id": "543d3e2f-4a1b-45ad-82d4-e3c412c7d317",
   "metadata": {},
   "outputs": [
    {
     "name": "stdout",
     "output_type": "stream",
     "text": [
      "Epoch 1/50\n",
      "79/79 [==============================] - 74s 867ms/step - loss: 0.6976 - accuracy: 0.5550 - val_loss: 0.6408 - val_accuracy: 0.6298\n",
      "Epoch 2/50\n",
      "79/79 [==============================] - 64s 804ms/step - loss: 0.6368 - accuracy: 0.6359 - val_loss: 0.6044 - val_accuracy: 0.6726\n",
      "Epoch 3/50\n",
      "79/79 [==============================] - 69s 871ms/step - loss: 0.5799 - accuracy: 0.6968 - val_loss: 0.5707 - val_accuracy: 0.7030\n",
      "Epoch 4/50\n",
      "79/79 [==============================] - 71s 893ms/step - loss: 0.5364 - accuracy: 0.7270 - val_loss: 0.4908 - val_accuracy: 0.7614\n",
      "Epoch 5/50\n",
      "79/79 [==============================] - 63s 791ms/step - loss: 0.5071 - accuracy: 0.7495 - val_loss: 0.4975 - val_accuracy: 0.7576\n",
      "Epoch 6/50\n",
      "79/79 [==============================] - 63s 800ms/step - loss: 0.5038 - accuracy: 0.7512 - val_loss: 0.4884 - val_accuracy: 0.7610\n",
      "Epoch 7/50\n",
      "79/79 [==============================] - 63s 799ms/step - loss: 0.4760 - accuracy: 0.7726 - val_loss: 0.4367 - val_accuracy: 0.7980\n",
      "Epoch 8/50\n",
      "79/79 [==============================] - 64s 806ms/step - loss: 0.4656 - accuracy: 0.7779 - val_loss: 0.4669 - val_accuracy: 0.7804\n",
      "Epoch 9/50\n",
      "79/79 [==============================] - 63s 796ms/step - loss: 0.4478 - accuracy: 0.7892 - val_loss: 0.4220 - val_accuracy: 0.8052\n",
      "Epoch 10/50\n",
      "79/79 [==============================] - 63s 791ms/step - loss: 0.4316 - accuracy: 0.7974 - val_loss: 0.4464 - val_accuracy: 0.7912\n",
      "Epoch 11/50\n",
      "79/79 [==============================] - 63s 802ms/step - loss: 0.4223 - accuracy: 0.8047 - val_loss: 0.4209 - val_accuracy: 0.8058\n",
      "Epoch 12/50\n",
      "79/79 [==============================] - 64s 807ms/step - loss: 0.4059 - accuracy: 0.8166 - val_loss: 0.3932 - val_accuracy: 0.8214\n",
      "Epoch 13/50\n",
      "79/79 [==============================] - 65s 817ms/step - loss: 0.4118 - accuracy: 0.8103 - val_loss: 0.3910 - val_accuracy: 0.8266\n",
      "Epoch 14/50\n",
      "79/79 [==============================] - 64s 806ms/step - loss: 0.4006 - accuracy: 0.8172 - val_loss: 0.3991 - val_accuracy: 0.8172\n",
      "Epoch 15/50\n",
      "79/79 [==============================] - 64s 812ms/step - loss: 0.3835 - accuracy: 0.8261 - val_loss: 0.3686 - val_accuracy: 0.8368\n",
      "Epoch 16/50\n",
      "79/79 [==============================] - 64s 807ms/step - loss: 0.3804 - accuracy: 0.8281 - val_loss: 0.3799 - val_accuracy: 0.8284\n",
      "Epoch 17/50\n",
      "79/79 [==============================] - 63s 796ms/step - loss: 0.3682 - accuracy: 0.8347 - val_loss: 0.3780 - val_accuracy: 0.8344\n",
      "Epoch 18/50\n",
      "79/79 [==============================] - 66s 834ms/step - loss: 0.3641 - accuracy: 0.8377 - val_loss: 0.3577 - val_accuracy: 0.8432\n",
      "Epoch 19/50\n",
      "79/79 [==============================] - 63s 801ms/step - loss: 0.3550 - accuracy: 0.8411 - val_loss: 0.3550 - val_accuracy: 0.8436\n",
      "Epoch 20/50\n",
      "79/79 [==============================] - 64s 806ms/step - loss: 0.3499 - accuracy: 0.8435 - val_loss: 0.3388 - val_accuracy: 0.8528\n",
      "Epoch 21/50\n",
      "79/79 [==============================] - 64s 816ms/step - loss: 0.3445 - accuracy: 0.8495 - val_loss: 0.3400 - val_accuracy: 0.8508\n",
      "Epoch 22/50\n",
      "79/79 [==============================] - 64s 802ms/step - loss: 0.3453 - accuracy: 0.8491 - val_loss: 0.3368 - val_accuracy: 0.8504\n",
      "Epoch 23/50\n",
      "79/79 [==============================] - 65s 821ms/step - loss: 0.3269 - accuracy: 0.8561 - val_loss: 0.3261 - val_accuracy: 0.8544\n",
      "Epoch 24/50\n",
      "79/79 [==============================] - 63s 793ms/step - loss: 0.3276 - accuracy: 0.8557 - val_loss: 0.3670 - val_accuracy: 0.8344\n",
      "Epoch 25/50\n",
      "79/79 [==============================] - 63s 797ms/step - loss: 0.3166 - accuracy: 0.8629 - val_loss: 0.3080 - val_accuracy: 0.8628\n",
      "Epoch 26/50\n",
      "79/79 [==============================] - 62s 788ms/step - loss: 0.3060 - accuracy: 0.8672 - val_loss: 0.3337 - val_accuracy: 0.8524\n",
      "Epoch 27/50\n",
      "79/79 [==============================] - 63s 792ms/step - loss: 0.3035 - accuracy: 0.8675 - val_loss: 0.3121 - val_accuracy: 0.8648\n",
      "Epoch 28/50\n",
      "79/79 [==============================] - 61s 768ms/step - loss: 0.2974 - accuracy: 0.8687 - val_loss: 0.2953 - val_accuracy: 0.8712\n",
      "Epoch 29/50\n",
      "79/79 [==============================] - 61s 779ms/step - loss: 0.3025 - accuracy: 0.8685 - val_loss: 0.3027 - val_accuracy: 0.8712\n",
      "Epoch 30/50\n",
      "79/79 [==============================] - 61s 771ms/step - loss: 0.2860 - accuracy: 0.8757 - val_loss: 0.2886 - val_accuracy: 0.8788\n",
      "Epoch 31/50\n",
      "79/79 [==============================] - 61s 768ms/step - loss: 0.2820 - accuracy: 0.8779 - val_loss: 0.2829 - val_accuracy: 0.8784\n",
      "Epoch 32/50\n",
      "79/79 [==============================] - 61s 769ms/step - loss: 0.2887 - accuracy: 0.8767 - val_loss: 0.3325 - val_accuracy: 0.8508\n",
      "Epoch 33/50\n",
      "79/79 [==============================] - 61s 771ms/step - loss: 0.2745 - accuracy: 0.8823 - val_loss: 0.2940 - val_accuracy: 0.8758\n",
      "Epoch 34/50\n",
      "79/79 [==============================] - 61s 769ms/step - loss: 0.2712 - accuracy: 0.8830 - val_loss: 0.2877 - val_accuracy: 0.8736\n",
      "Epoch 35/50\n",
      "79/79 [==============================] - 61s 771ms/step - loss: 0.2635 - accuracy: 0.8846 - val_loss: 0.2947 - val_accuracy: 0.8760\n",
      "Epoch 36/50\n",
      "79/79 [==============================] - 60s 762ms/step - loss: 0.2565 - accuracy: 0.8916 - val_loss: 0.3035 - val_accuracy: 0.8676\n",
      "Epoch 37/50\n",
      "79/79 [==============================] - 61s 769ms/step - loss: 0.2620 - accuracy: 0.8887 - val_loss: 0.2784 - val_accuracy: 0.8834\n",
      "Epoch 38/50\n",
      "79/79 [==============================] - 60s 765ms/step - loss: 0.2490 - accuracy: 0.8962 - val_loss: 0.2842 - val_accuracy: 0.8820\n",
      "Epoch 39/50\n",
      "79/79 [==============================] - 61s 776ms/step - loss: 0.2525 - accuracy: 0.8948 - val_loss: 0.2729 - val_accuracy: 0.8874\n",
      "Epoch 40/50\n",
      "79/79 [==============================] - 61s 774ms/step - loss: 0.2575 - accuracy: 0.8923 - val_loss: 0.2918 - val_accuracy: 0.8734\n",
      "Epoch 41/50\n",
      "79/79 [==============================] - 61s 770ms/step - loss: 0.2437 - accuracy: 0.8980 - val_loss: 0.3215 - val_accuracy: 0.8650\n",
      "Epoch 42/50\n",
      "79/79 [==============================] - 61s 765ms/step - loss: 0.2345 - accuracy: 0.8994 - val_loss: 0.3017 - val_accuracy: 0.8742\n",
      "Epoch 43/50\n",
      "79/79 [==============================] - 60s 765ms/step - loss: 0.2326 - accuracy: 0.9018 - val_loss: 0.3011 - val_accuracy: 0.8744\n",
      "Epoch 44/50\n",
      "79/79 [==============================] - 60s 762ms/step - loss: 0.2312 - accuracy: 0.9024 - val_loss: 0.2828 - val_accuracy: 0.8840\n",
      "Epoch 45/50\n",
      "79/79 [==============================] - 60s 762ms/step - loss: 0.2187 - accuracy: 0.9086 - val_loss: 0.3017 - val_accuracy: 0.8722\n",
      "Epoch 46/50\n",
      "79/79 [==============================] - 60s 761ms/step - loss: 0.2182 - accuracy: 0.9103 - val_loss: 0.3379 - val_accuracy: 0.8624\n",
      "Epoch 47/50\n",
      "79/79 [==============================] - 61s 764ms/step - loss: 0.2234 - accuracy: 0.9069 - val_loss: 0.2877 - val_accuracy: 0.8838\n",
      "Epoch 48/50\n",
      "79/79 [==============================] - 60s 763ms/step - loss: 0.2155 - accuracy: 0.9107 - val_loss: 0.2831 - val_accuracy: 0.8856\n",
      "Epoch 49/50\n",
      "79/79 [==============================] - 60s 764ms/step - loss: 0.2036 - accuracy: 0.9152 - val_loss: 0.2906 - val_accuracy: 0.8858\n",
      "Epoch 50/50\n",
      "79/79 [==============================] - 61s 766ms/step - loss: 0.2161 - accuracy: 0.9083 - val_loss: 0.2976 - val_accuracy: 0.8800\n"
     ]
    }
   ],
   "source": [
    "history = model.fit(train_iterator, epochs=50, validation_data=val_iterator)"
   ]
  },
  {
   "cell_type": "code",
   "execution_count": 26,
   "id": "8d6728c2-0af7-480b-876c-11f755eca5a3",
   "metadata": {},
   "outputs": [
    {
     "data": {
      "image/png": "[encoded data removed]",
      "text/plain": [
       "<Figure size 1200x400 with 2 Axes>"
      ]
     },
     "metadata": {},
     "output_type": "display_data"
    }
   ],
   "source": [
    "acc = history.history['accuracy']\n",
    "val_acc = history.history['val_accuracy']\n",
    "epochs = range(len(acc))\n",
    "\n",
    "plt.figure(figsize=(12,4))\n",
    "plt.subplot(1,2,1)\n",
    "plt.plot(epochs, acc, label = 'Training Accuracy')\n",
    "plt.plot(epochs, val_acc, label = 'Validation Accuracy')\n",
    "plt.title(\"Training and Validation Accuracy\")\n",
    "plt.xlabel('Epochs')\n",
    "plt.ylabel('Accuracy')\n",
    "plt.legend()\n",
    "plt.grid()\n",
    "\n",
    "loss = history.history['loss']\n",
    "val_loss = history.history['val_loss']\n",
    "\n",
    "plt.subplot(1,2,2)\n",
    "plt.plot(epochs, loss, label = 'Training loss')\n",
    "plt.plot(epochs, val_loss, label = 'Validation Loss')\n",
    "plt.title(\"Training and Validation Loss\")\n",
    "plt.xlabel('Epochs')\n",
    "plt.ylabel('Loss')\n",
    "plt.legend()\n",
    "plt.grid()\n",
    "plt.show()"
   ]
  },
  {
   "cell_type": "code",
   "execution_count": 27,
   "id": "6940f94e-eca5-48e0-8a08-56e11e70e541",
   "metadata": {},
   "outputs": [],
   "source": [
    "y_pred=model.predict(val_iterator)"
   ]
  },
  {
   "cell_type": "code",
   "execution_count": 28,
   "id": "918287a7-6d4a-44ab-ab0a-8aede2edbb8e",
   "metadata": {},
   "outputs": [],
   "source": [
    "y_pred_classes=(y_pred>0.5).astype(int).flatten()\n",
    "y_true=val_iterator.classes"
   ]
  },
  {
   "cell_type": "code",
   "execution_count": 29,
   "id": "86a415df-1002-427a-b6fa-34eea472c831",
   "metadata": {},
   "outputs": [
    {
     "data": {
      "image/png": "[encoded data removed]",
      "text/plain": [
       "<Figure size 640x480 with 2 Axes>"
      ]
     },
     "metadata": {},
     "output_type": "display_data"
    }
   ],
   "source": [
    "from sklearn.metrics import confusion_matrix, classification_report\n",
    "conf_matrix=confusion_matrix(y_true,y_pred_classes)\n",
    "sns.heatmap(conf_matrix,annot=True,fmt='d',cmap='Blues')\n",
    "plt.xlabel('Predicted Label')\n",
    "plt.ylabel('True Label')\n",
    "plt.title('Confusion Matrix')\n",
    "plt.show()"
   ]
  },
  {
   "cell_type": "code",
   "execution_count": 30,
   "id": "9cc04145-2929-4b88-9262-67d1ae77876c",
   "metadata": {},
   "outputs": [
    {
     "name": "stdout",
     "output_type": "stream",
     "text": [
      "Classification Report:\n",
      "               precision    recall  f1-score   support\n",
      "\n",
      "           0       0.50      0.47      0.48      2518\n",
      "           1       0.49      0.51      0.50      2482\n",
      "\n",
      "    accuracy                           0.49      5000\n",
      "   macro avg       0.49      0.49      0.49      5000\n",
      "weighted avg       0.49      0.49      0.49      5000\n",
      "\n"
     ]
    }
   ],
   "source": [
    "print('Classification Report:\\n',classification_report(y_true,y_pred_classes))"
   ]
  },
  {
   "cell_type": "code",
   "execution_count": 31,
   "id": "14dc6aad-47bf-4b31-a717-e6f420cab364",
   "metadata": {},
   "outputs": [],
   "source": [
    "# at end of your training notebook\n",
    "model.save(\"model.h5\")    # creates a standalone HDF5 file"
   ]
  },
  {
   "cell_type": "code",
   "execution_count": null,
   "id": "d1363adc-9c8a-4625-a721-fffdd5383989",
   "metadata": {},
   "outputs": [],
   "source": []
  }
 ],
 "metadata": {
  "kernelspec": {
   "display_name": "Python 3 (ipykernel)",
   "language": "python",
   "name": "python3"
  },
  "language_info": {
   "codemirror_mode": {
    "name": "ipython",
    "version": 3
   },
   "file_extension": ".py",
   "mimetype": "text/x-python",
   "name": "python",
   "nbconvert_exporter": "python",
   "pygments_lexer": "ipython3",
   "version": "3.9.18"
  }
 },
 "nbformat": 4,
 "nbformat_minor": 5
}
